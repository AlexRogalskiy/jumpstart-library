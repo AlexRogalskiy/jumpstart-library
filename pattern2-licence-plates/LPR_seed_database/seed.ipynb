{
 "metadata": {
  "language_info": {
   "codemirror_mode": {
    "name": "ipython",
    "version": 3
   },
   "file_extension": ".py",
   "mimetype": "text/x-python",
   "name": "python",
   "nbconvert_exporter": "python",
   "pygments_lexer": "ipython3",
   "version": "3.9.2"
  },
  "orig_nbformat": 2,
  "kernelspec": {
   "name": "python392jvsc74a57bd0aee8b7b246df8f9039afb4144a1f6fd8d2ca17a180786b69acc140d282b71a49",
   "display_name": "Python 3.9.2 64-bit"
  },
  "metadata": {
   "interpreter": {
    "hash": "aee8b7b246df8f9039afb4144a1f6fd8d2ca17a180786b69acc140d282b71a49"
   }
  }
 },
 "nbformat": 4,
 "nbformat_minor": 2,
 "cells": [
  {
   "cell_type": "code",
   "execution_count": 3,
   "metadata": {
    "tags": [
     "outputPrepend"
    ]
   },
   "outputs": [
    {
     "output_type": "stream",
     "name": "stdout",
     "text": [
      "r', 'vehicle_model_year': '2010-2014', 'vehicle_registered_locality': 'CO', 'vehicle_owner_name': 'Bradley Nelson', 'vehicle_owner_address': '9515 West 74th Avenue', 'vehicle_owner_city': 'Arvada', 'vehicle_owner_state': 'CO', 'vehicle_owner_zip_code': '80005', 'vehicle_owner_contact_number': '+1-475-190-8570', 'customer_id': 'f282c1e0-1686-45a7-a55b-b0be4eacf0c6', 'customer_balance': '658 USD', 'customer_name': 'Bradley Nelson', 'customer_address': '9515 West 74th Avenue', 'customer_city': 'Arvada', 'customer_state': 'CO', 'customer_zip_code': '80005', 'customer_locality': 'CO', 'customer_contact_number': '+1-475-190-8570'}]\n",
      "[{'vehicle_registered_plate_number': '0000', 'vehicle_color': 'silver-gray', 'vehicle_make': 'audi', 'vehicle_body_type': 'sedan-sports', 'vehicle_make_model': 'audi_r8', 'vehicle_model_year': '2005-2009', 'vehicle_registered_locality': 'CA', 'vehicle_owner_name': 'Robert Wade', 'vehicle_owner_address': '618 Staley Avenue', 'vehicle_owner_city': 'Hayward', 'vehicle_owner_state': 'CA', 'vehicle_owner_zip_code': '94541', 'vehicle_owner_contact_number': '+1-027-871-3433', 'customer_id': '7307c3ca-6915-4dde-b561-0f1dec4be276', 'customer_balance': '679 USD', 'customer_name': 'Robert Wade', 'customer_address': '618 Staley Avenue', 'customer_city': 'Hayward', 'customer_state': 'CA', 'customer_zip_code': '94541', 'customer_locality': 'CA', 'customer_contact_number': '+1-027-871-3433'}, {'vehicle_registered_plate_number': '0000', 'vehicle_color': 'silver-gray', 'vehicle_make': 'audi', 'vehicle_body_type': 'sedan-sports', 'vehicle_make_model': 'audi_r8', 'vehicle_model_year': '2005-2009', 'vehicle_registered_locality': 'CA', 'vehicle_owner_name': 'Robert Wade', 'vehicle_owner_address': '618 Staley Avenue', 'vehicle_owner_city': 'Hayward', 'vehicle_owner_state': 'CA', 'vehicle_owner_zip_code': '94541', 'vehicle_owner_contact_number': '+1-027-871-3433', 'customer_id': '7307c3ca-6915-4dde-b561-0f1dec4be276', 'customer_balance': '679 USD', 'customer_name': 'Robert Wade', 'customer_address': '618 Staley Avenue', 'customer_city': 'Hayward', 'customer_state': 'CA', 'customer_zip_code': '94541', 'customer_locality': 'CA', 'customer_contact_number': '+1-027-871-3433'}, {'vehicle_registered_plate_number': 'KL01CC50', 'vehicle_color': 'white', 'vehicle_make': 'toyota', 'vehicle_body_type': 'sedan-compact', 'vehicle_make_model': 'mazda_cx', 'vehicle_model_year': '2010-2014', 'vehicle_registered_locality': 'AL', 'vehicle_owner_name': 'Maria Moore', 'vehicle_owner_address': '689 Stableway Road', 'vehicle_owner_city': 'Pike Road', 'vehicle_owner_state': 'AL', 'vehicle_owner_zip_code': '36064', 'vehicle_owner_contact_number': '+1-376-698-1417', 'customer_id': '114c26f1-2766-41dc-8ff8-dc4010553038', 'customer_balance': '264 USD', 'customer_name': 'Maria Moore', 'customer_address': '689 Stableway Road', 'customer_city': 'Pike Road', 'customer_state': 'AL', 'customer_zip_code': '36064', 'customer_locality': 'AL', 'customer_contact_number': '+1-376-698-1417'}, {'vehicle_registered_plate_number': '2662', 'vehicle_color': 'white', 'vehicle_make': 'volkswagen', 'vehicle_body_type': 'sedan-standard', 'vehicle_make_model': 'volkswagen_vento', 'vehicle_model_year': '2005-2009', 'vehicle_registered_locality': 'MD', 'vehicle_owner_name': 'Alexander Smith Jr.', 'vehicle_owner_address': '8142 Mallard Shore Drive', 'vehicle_owner_city': 'Laurel', 'vehicle_owner_state': 'MD', 'vehicle_owner_zip_code': '20724', 'vehicle_owner_contact_number': '+1-668-366-4240', 'customer_id': '74391a22-e772-4c56-9096-5cac94f279ad', 'customer_balance': '426 USD', 'customer_name': 'Alexander Smith Jr.', 'customer_address': '8142 Mallard Shore Drive', 'customer_city': 'Laurel', 'customer_state': 'MD', 'customer_zip_code': '20724', 'customer_locality': 'MD', 'customer_contact_number': '+1-668-366-4240'}, {'vehicle_registered_plate_number': 'G00GLE', 'vehicle_color': 'black', 'vehicle_make': 'bmw', 'vehicle_body_type': 'sedan-standard', 'vehicle_make_model': 'bmw_3-series', 'vehicle_model_year': '2005-2009', 'vehicle_registered_locality': 'TN', 'vehicle_owner_name': 'Andrew Blevins', 'vehicle_owner_address': '8529 Old Harding Lane', 'vehicle_owner_city': 'Nashville', 'vehicle_owner_state': 'TN', 'vehicle_owner_zip_code': '37221', 'vehicle_owner_contact_number': '+1-712-856-8754', 'customer_id': 'd3d64fe0-824b-4893-acfe-9969b2eaf189', 'customer_balance': '651 USD', 'customer_name': 'Andrew Blevins', 'customer_address': '8529 Old Harding Lane', 'customer_city': 'Nashville', 'customer_state': 'TN', 'customer_zip_code': '37221', 'customer_locality': 'TN', 'customer_contact_number': '+1-712-856-8754'}, {'vehicle_registered_plate_number': 'CHIAN000', 'vehicle_color': 'black', 'vehicle_make': 'toyota', 'vehicle_body_type': 'sedan-wagon', 'vehicle_make_model': 'toyota_land-cruiser', 'vehicle_model_year': '2010-2014', 'vehicle_registered_locality': 'CO', 'vehicle_owner_name': 'Bradley Nelson', 'vehicle_owner_address': '9515 West 74th Avenue', 'vehicle_owner_city': 'Arvada', 'vehicle_owner_state': 'CO', 'vehicle_owner_zip_code': '80005', 'vehicle_owner_contact_number': '+1-475-190-8570', 'customer_id': 'f282c1e0-1686-45a7-a55b-b0be4eacf0c6', 'customer_balance': '658 USD', 'customer_name': 'Bradley Nelson', 'customer_address': '9515 West 74th Avenue', 'customer_city': 'Arvada', 'customer_state': 'CO', 'customer_zip_code': '80005', 'customer_locality': 'CO', 'customer_contact_number': '+1-475-190-8570'}, {'vehicle_registered_plate_number': 'S7JDW', 'vehicle_color': 'silver-gray', 'vehicle_make': 'aston-martin', 'vehicle_body_type': 'sedan-sports', 'vehicle_make_model': 'mercedes-benz_amg-gt', 'vehicle_model_year': '2015-2019', 'vehicle_registered_locality': 'FL', 'vehicle_owner_name': 'Nicholas Mack', 'vehicle_owner_address': '5620 Lilly Street', 'vehicle_owner_city': 'Panama City', 'vehicle_owner_state': 'FL', 'vehicle_owner_zip_code': '32404', 'vehicle_owner_contact_number': '+1-832-899-2117', 'customer_id': '58e84f08-ebee-43ca-adfb-ec39ed986f8e', 'customer_balance': '848 USD', 'customer_name': 'Nicholas Mack', 'customer_address': '5620 Lilly Street', 'customer_city': 'Panama City', 'customer_state': 'FL', 'customer_zip_code': '32404', 'customer_locality': 'FL', 'customer_contact_number': '+1-832-899-2117'}]\n",
      "[{'vehicle_registered_plate_number': '0000', 'vehicle_color': 'silver-gray', 'vehicle_make': 'audi', 'vehicle_body_type': 'sedan-sports', 'vehicle_make_model': 'audi_r8', 'vehicle_model_year': '2005-2009', 'vehicle_registered_locality': 'CA', 'vehicle_owner_name': 'Robert Wade', 'vehicle_owner_address': '618 Staley Avenue', 'vehicle_owner_city': 'Hayward', 'vehicle_owner_state': 'CA', 'vehicle_owner_zip_code': '94541', 'vehicle_owner_contact_number': '+1-027-871-3433', 'customer_id': '7307c3ca-6915-4dde-b561-0f1dec4be276', 'customer_balance': '679 USD', 'customer_name': 'Robert Wade', 'customer_address': '618 Staley Avenue', 'customer_city': 'Hayward', 'customer_state': 'CA', 'customer_zip_code': '94541', 'customer_locality': 'CA', 'customer_contact_number': '+1-027-871-3433'}, {'vehicle_registered_plate_number': '0000', 'vehicle_color': 'silver-gray', 'vehicle_make': 'audi', 'vehicle_body_type': 'sedan-sports', 'vehicle_make_model': 'audi_r8', 'vehicle_model_year': '2005-2009', 'vehicle_registered_locality': 'CA', 'vehicle_owner_name': 'Robert Wade', 'vehicle_owner_address': '618 Staley Avenue', 'vehicle_owner_city': 'Hayward', 'vehicle_owner_state': 'CA', 'vehicle_owner_zip_code': '94541', 'vehicle_owner_contact_number': '+1-027-871-3433', 'customer_id': '7307c3ca-6915-4dde-b561-0f1dec4be276', 'customer_balance': '679 USD', 'customer_name': 'Robert Wade', 'customer_address': '618 Staley Avenue', 'customer_city': 'Hayward', 'customer_state': 'CA', 'customer_zip_code': '94541', 'customer_locality': 'CA', 'customer_contact_number': '+1-027-871-3433'}, {'vehicle_registered_plate_number': 'KL01CC50', 'vehicle_color': 'white', 'vehicle_make': 'toyota', 'vehicle_body_type': 'sedan-compact', 'vehicle_make_model': 'mazda_cx', 'vehicle_model_year': '2010-2014', 'vehicle_registered_locality': 'AL', 'vehicle_owner_name': 'Maria Moore', 'vehicle_owner_address': '689 Stableway Road', 'vehicle_owner_city': 'Pike Road', 'vehicle_owner_state': 'AL', 'vehicle_owner_zip_code': '36064', 'vehicle_owner_contact_number': '+1-376-698-1417', 'customer_id': '114c26f1-2766-41dc-8ff8-dc4010553038', 'customer_balance': '264 USD', 'customer_name': 'Maria Moore', 'customer_address': '689 Stableway Road', 'customer_city': 'Pike Road', 'customer_state': 'AL', 'customer_zip_code': '36064', 'customer_locality': 'AL', 'customer_contact_number': '+1-376-698-1417'}, {'vehicle_registered_plate_number': '2662', 'vehicle_color': 'white', 'vehicle_make': 'volkswagen', 'vehicle_body_type': 'sedan-standard', 'vehicle_make_model': 'volkswagen_vento', 'vehicle_model_year': '2005-2009', 'vehicle_registered_locality': 'MD', 'vehicle_owner_name': 'Alexander Smith Jr.', 'vehicle_owner_address': '8142 Mallard Shore Drive', 'vehicle_owner_city': 'Laurel', 'vehicle_owner_state': 'MD', 'vehicle_owner_zip_code': '20724', 'vehicle_owner_contact_number': '+1-668-366-4240', 'customer_id': '74391a22-e772-4c56-9096-5cac94f279ad', 'customer_balance': '426 USD', 'customer_name': 'Alexander Smith Jr.', 'customer_address': '8142 Mallard Shore Drive', 'customer_city': 'Laurel', 'customer_state': 'MD', 'customer_zip_code': '20724', 'customer_locality': 'MD', 'customer_contact_number': '+1-668-366-4240'}, {'vehicle_registered_plate_number': 'G00GLE', 'vehicle_color': 'black', 'vehicle_make': 'bmw', 'vehicle_body_type': 'sedan-standard', 'vehicle_make_model': 'bmw_3-series', 'vehicle_model_year': '2005-2009', 'vehicle_registered_locality': 'TN', 'vehicle_owner_name': 'Andrew Blevins', 'vehicle_owner_address': '8529 Old Harding Lane', 'vehicle_owner_city': 'Nashville', 'vehicle_owner_state': 'TN', 'vehicle_owner_zip_code': '37221', 'vehicle_owner_contact_number': '+1-712-856-8754', 'customer_id': 'd3d64fe0-824b-4893-acfe-9969b2eaf189', 'customer_balance': '651 USD', 'customer_name': 'Andrew Blevins', 'customer_address': '8529 Old Harding Lane', 'customer_city': 'Nashville', 'customer_state': 'TN', 'customer_zip_code': '37221', 'customer_locality': 'TN', 'customer_contact_number': '+1-712-856-8754'}, {'vehicle_registered_plate_number': 'CHIAN000', 'vehicle_color': 'black', 'vehicle_make': 'toyota', 'vehicle_body_type': 'sedan-wagon', 'vehicle_make_model': 'toyota_land-cruiser', 'vehicle_model_year': '2010-2014', 'vehicle_registered_locality': 'CO', 'vehicle_owner_name': 'Bradley Nelson', 'vehicle_owner_address': '9515 West 74th Avenue', 'vehicle_owner_city': 'Arvada', 'vehicle_owner_state': 'CO', 'vehicle_owner_zip_code': '80005', 'vehicle_owner_contact_number': '+1-475-190-8570', 'customer_id': 'f282c1e0-1686-45a7-a55b-b0be4eacf0c6', 'customer_balance': '658 USD', 'customer_name': 'Bradley Nelson', 'customer_address': '9515 West 74th Avenue', 'customer_city': 'Arvada', 'customer_state': 'CO', 'customer_zip_code': '80005', 'customer_locality': 'CO', 'customer_contact_number': '+1-475-190-8570'}, {'vehicle_registered_plate_number': 'S7JDW', 'vehicle_color': 'silver-gray', 'vehicle_make': 'aston-martin', 'vehicle_body_type': 'sedan-sports', 'vehicle_make_model': 'mercedes-benz_amg-gt', 'vehicle_model_year': '2015-2019', 'vehicle_registered_locality': 'FL', 'vehicle_owner_name': 'Nicholas Mack', 'vehicle_owner_address': '5620 Lilly Street', 'vehicle_owner_city': 'Panama City', 'vehicle_owner_state': 'FL', 'vehicle_owner_zip_code': '32404', 'vehicle_owner_contact_number': '+1-832-899-2117', 'customer_id': '58e84f08-ebee-43ca-adfb-ec39ed986f8e', 'customer_balance': '848 USD', 'customer_name': 'Nicholas Mack', 'customer_address': '5620 Lilly Street', 'customer_city': 'Panama City', 'customer_state': 'FL', 'customer_zip_code': '32404', 'customer_locality': 'FL', 'customer_contact_number': '+1-832-899-2117'}, {'vehicle_registered_plate_number': 'CRA1G', 'vehicle_color': 'yellow', 'vehicle_make': 'porsche', 'vehicle_body_type': 'sedan-sports', 'vehicle_make_model': 'porsche_boxster', 'vehicle_model_year': '1995-1999', 'vehicle_registered_locality': 'MD', 'vehicle_owner_name': 'Dr. Alvin Parker', 'vehicle_owner_address': '706 Seagrove Road', 'vehicle_owner_city': 'Glen Burnie', 'vehicle_owner_state': 'MD', 'vehicle_owner_zip_code': '21060', 'vehicle_owner_contact_number': '+1-775-222-0582', 'customer_id': 'c7e41243-8452-42f5-add6-70336e56c3bb', 'customer_balance': '676 USD', 'customer_name': 'Dr. Alvin Parker', 'customer_address': '706 Seagrove Road', 'customer_city': 'Glen Burnie', 'customer_state': 'MD', 'customer_zip_code': '21060', 'customer_locality': 'MD', 'customer_contact_number': '+1-775-222-0582'}]\n",
      "[{'vehicle_registered_plate_number': '0000', 'vehicle_color': 'silver-gray', 'vehicle_make': 'audi', 'vehicle_body_type': 'sedan-sports', 'vehicle_make_model': 'audi_r8', 'vehicle_model_year': '2005-2009', 'vehicle_registered_locality': 'CA', 'vehicle_owner_name': 'Robert Wade', 'vehicle_owner_address': '618 Staley Avenue', 'vehicle_owner_city': 'Hayward', 'vehicle_owner_state': 'CA', 'vehicle_owner_zip_code': '94541', 'vehicle_owner_contact_number': '+1-027-871-3433', 'customer_id': '7307c3ca-6915-4dde-b561-0f1dec4be276', 'customer_balance': '679 USD', 'customer_name': 'Robert Wade', 'customer_address': '618 Staley Avenue', 'customer_city': 'Hayward', 'customer_state': 'CA', 'customer_zip_code': '94541', 'customer_locality': 'CA', 'customer_contact_number': '+1-027-871-3433'}, {'vehicle_registered_plate_number': '0000', 'vehicle_color': 'silver-gray', 'vehicle_make': 'audi', 'vehicle_body_type': 'sedan-sports', 'vehicle_make_model': 'audi_r8', 'vehicle_model_year': '2005-2009', 'vehicle_registered_locality': 'CA', 'vehicle_owner_name': 'Robert Wade', 'vehicle_owner_address': '618 Staley Avenue', 'vehicle_owner_city': 'Hayward', 'vehicle_owner_state': 'CA', 'vehicle_owner_zip_code': '94541', 'vehicle_owner_contact_number': '+1-027-871-3433', 'customer_id': '7307c3ca-6915-4dde-b561-0f1dec4be276', 'customer_balance': '679 USD', 'customer_name': 'Robert Wade', 'customer_address': '618 Staley Avenue', 'customer_city': 'Hayward', 'customer_state': 'CA', 'customer_zip_code': '94541', 'customer_locality': 'CA', 'customer_contact_number': '+1-027-871-3433'}, {'vehicle_registered_plate_number': 'KL01CC50', 'vehicle_color': 'white', 'vehicle_make': 'toyota', 'vehicle_body_type': 'sedan-compact', 'vehicle_make_model': 'mazda_cx', 'vehicle_model_year': '2010-2014', 'vehicle_registered_locality': 'AL', 'vehicle_owner_name': 'Maria Moore', 'vehicle_owner_address': '689 Stableway Road', 'vehicle_owner_city': 'Pike Road', 'vehicle_owner_state': 'AL', 'vehicle_owner_zip_code': '36064', 'vehicle_owner_contact_number': '+1-376-698-1417', 'customer_id': '114c26f1-2766-41dc-8ff8-dc4010553038', 'customer_balance': '264 USD', 'customer_name': 'Maria Moore', 'customer_address': '689 Stableway Road', 'customer_city': 'Pike Road', 'customer_state': 'AL', 'customer_zip_code': '36064', 'customer_locality': 'AL', 'customer_contact_number': '+1-376-698-1417'}, {'vehicle_registered_plate_number': '2662', 'vehicle_color': 'white', 'vehicle_make': 'volkswagen', 'vehicle_body_type': 'sedan-standard', 'vehicle_make_model': 'volkswagen_vento', 'vehicle_model_year': '2005-2009', 'vehicle_registered_locality': 'MD', 'vehicle_owner_name': 'Alexander Smith Jr.', 'vehicle_owner_address': '8142 Mallard Shore Drive', 'vehicle_owner_city': 'Laurel', 'vehicle_owner_state': 'MD', 'vehicle_owner_zip_code': '20724', 'vehicle_owner_contact_number': '+1-668-366-4240', 'customer_id': '74391a22-e772-4c56-9096-5cac94f279ad', 'customer_balance': '426 USD', 'customer_name': 'Alexander Smith Jr.', 'customer_address': '8142 Mallard Shore Drive', 'customer_city': 'Laurel', 'customer_state': 'MD', 'customer_zip_code': '20724', 'customer_locality': 'MD', 'customer_contact_number': '+1-668-366-4240'}, {'vehicle_registered_plate_number': 'G00GLE', 'vehicle_color': 'black', 'vehicle_make': 'bmw', 'vehicle_body_type': 'sedan-standard', 'vehicle_make_model': 'bmw_3-series', 'vehicle_model_year': '2005-2009', 'vehicle_registered_locality': 'TN', 'vehicle_owner_name': 'Andrew Blevins', 'vehicle_owner_address': '8529 Old Harding Lane', 'vehicle_owner_city': 'Nashville', 'vehicle_owner_state': 'TN', 'vehicle_owner_zip_code': '37221', 'vehicle_owner_contact_number': '+1-712-856-8754', 'customer_id': 'd3d64fe0-824b-4893-acfe-9969b2eaf189', 'customer_balance': '651 USD', 'customer_name': 'Andrew Blevins', 'customer_address': '8529 Old Harding Lane', 'customer_city': 'Nashville', 'customer_state': 'TN', 'customer_zip_code': '37221', 'customer_locality': 'TN', 'customer_contact_number': '+1-712-856-8754'}, {'vehicle_registered_plate_number': 'CHIAN000', 'vehicle_color': 'black', 'vehicle_make': 'toyota', 'vehicle_body_type': 'sedan-wagon', 'vehicle_make_model': 'toyota_land-cruiser', 'vehicle_model_year': '2010-2014', 'vehicle_registered_locality': 'CO', 'vehicle_owner_name': 'Bradley Nelson', 'vehicle_owner_address': '9515 West 74th Avenue', 'vehicle_owner_city': 'Arvada', 'vehicle_owner_state': 'CO', 'vehicle_owner_zip_code': '80005', 'vehicle_owner_contact_number': '+1-475-190-8570', 'customer_id': 'f282c1e0-1686-45a7-a55b-b0be4eacf0c6', 'customer_balance': '658 USD', 'customer_name': 'Bradley Nelson', 'customer_address': '9515 West 74th Avenue', 'customer_city': 'Arvada', 'customer_state': 'CO', 'customer_zip_code': '80005', 'customer_locality': 'CO', 'customer_contact_number': '+1-475-190-8570'}, {'vehicle_registered_plate_number': 'S7JDW', 'vehicle_color': 'silver-gray', 'vehicle_make': 'aston-martin', 'vehicle_body_type': 'sedan-sports', 'vehicle_make_model': 'mercedes-benz_amg-gt', 'vehicle_model_year': '2015-2019', 'vehicle_registered_locality': 'FL', 'vehicle_owner_name': 'Nicholas Mack', 'vehicle_owner_address': '5620 Lilly Street', 'vehicle_owner_city': 'Panama City', 'vehicle_owner_state': 'FL', 'vehicle_owner_zip_code': '32404', 'vehicle_owner_contact_number': '+1-832-899-2117', 'customer_id': '58e84f08-ebee-43ca-adfb-ec39ed986f8e', 'customer_balance': '848 USD', 'customer_name': 'Nicholas Mack', 'customer_address': '5620 Lilly Street', 'customer_city': 'Panama City', 'customer_state': 'FL', 'customer_zip_code': '32404', 'customer_locality': 'FL', 'customer_contact_number': '+1-832-899-2117'}, {'vehicle_registered_plate_number': 'CRA1G', 'vehicle_color': 'yellow', 'vehicle_make': 'porsche', 'vehicle_body_type': 'sedan-sports', 'vehicle_make_model': 'porsche_boxster', 'vehicle_model_year': '1995-1999', 'vehicle_registered_locality': 'MD', 'vehicle_owner_name': 'Dr. Alvin Parker', 'vehicle_owner_address': '706 Seagrove Road', 'vehicle_owner_city': 'Glen Burnie', 'vehicle_owner_state': 'MD', 'vehicle_owner_zip_code': '21060', 'vehicle_owner_contact_number': '+1-775-222-0582', 'customer_id': 'c7e41243-8452-42f5-add6-70336e56c3bb', 'customer_balance': '676 USD', 'customer_name': 'Dr. Alvin Parker', 'customer_address': '706 Seagrove Road', 'customer_city': 'Glen Burnie', 'customer_state': 'MD', 'customer_zip_code': '21060', 'customer_locality': 'MD', 'customer_contact_number': '+1-775-222-0582'}, {'vehicle_registered_plate_number': 'HR26AZ5927', 'vehicle_color': 'blue', 'vehicle_make': 'chevrolet', 'vehicle_body_type': 'sedan-compact', 'vehicle_make_model': 'chevrolet_spark', 'vehicle_model_year': '2010-2014', 'vehicle_registered_locality': 'MA', 'vehicle_owner_name': 'Kimberly Vincent', 'vehicle_owner_address': '984 Greendale Avenue', 'vehicle_owner_city': 'Needham', 'vehicle_owner_state': 'MA', 'vehicle_owner_zip_code': '02492', 'vehicle_owner_contact_number': '+1-365-021-8785', 'customer_id': '2e3fa2fd-0f35-4fe0-8357-8fed908daa8f', 'customer_balance': '120 USD', 'customer_name': 'Kimberly Vincent', 'customer_address': '984 Greendale Avenue', 'customer_city': 'Needham', 'customer_state': 'MA', 'customer_zip_code': '02492', 'customer_locality': 'MA', 'customer_contact_number': '+1-365-021-8785'}]\n"
     ]
    }
   ],
   "source": [
    "#!/usr/bin/python\n",
    "\n",
    "import requests\n",
    "import base64\n",
    "import json\n",
    "import uuid\n",
    "#pip3 install Faker\n",
    "from faker import Faker\n",
    "import random\n",
    "from geopy.geocoders import Nominatim\n",
    "\n",
    "def seed_db_creator(IMAGE_PATH):\n",
    "  SECRET_KEY = 'sk_90c281aebbfc04d52d6c2e860'\n",
    "  results= {}\n",
    "  with open(IMAGE_PATH, 'rb') as image_file:\n",
    "      img_base64 = base64.b64encode(image_file.read())\n",
    "  url = 'https://api.openalpr.com/v3/recognize_bytes?recognize_vehicle=1&country=us&secret_key=%s' % (SECRET_KEY)\n",
    "  r = requests.post(url, data = img_base64)\n",
    "  data = json.loads( json.dumps(r.json(), indent=2))\n",
    "  \n",
    "  ## Uncomment if you want to get input data from json instead of openalpr.com API\n",
    "  #dump_file = open(\"dump.json\")\n",
    "  #data = json.load(dump_file)\n",
    "\n",
    "  address_file = open(\"addresses.json\")\n",
    "  address_data = json.load(address_file)\n",
    "  \n",
    "  for i in data[\"results\"]:\n",
    "    customer_id = str(uuid.uuid4())\n",
    "    fake_owner_name = fake.name()\n",
    "    fake_owner_contact_number = fake.numerify('+1-###-###-####')\n",
    "    fake_address_details = address_data[\"addresses\"][random.randint(0,999)]\n",
    "    fake_lat_long = fake.local_latlng()\n",
    "\n",
    "    ##### Vehicle Information #####\n",
    "    results.update({\"vehicle_registered_plate_number\": i['plate']})\n",
    "    results.update({\"vehicle_color\": i[\"vehicle\"][\"color\"][0][\"name\"]})\n",
    "    results.update({\"vehicle_make\": i[\"vehicle\"][\"make\"][0][\"name\"]})\n",
    "    results.update({\"vehicle_body_type\": i[\"vehicle\"][\"body_type\"][0][\"name\"]})\n",
    "    results.update({\"vehicle_make_model\": i[\"vehicle\"][\"make_model\"][0][\"name\"]})\n",
    "    results.update({\"vehicle_model_year\": i[\"vehicle\"][\"year\"][0][\"name\"]})\n",
    "    results.update({\"vehicle_registered_locality\": fake_address_details['state']})\n",
    "   ###### Owner Information #####\n",
    "    results.update({\"vehicle_owner_name\": fake_owner_name})\n",
    "    results.update({\"vehicle_owner_address\": fake_address_details['address1']})\n",
    "    results.update({\"vehicle_owner_city\": fake_address_details['city']})\n",
    "    results.update({\"vehicle_owner_state\": fake_address_details['state']})\n",
    "    results.update({\"vehicle_owner_zip_code\": fake_address_details['postalCode']})\n",
    "    results.update({\"vehicle_owner_contact_number\": fake_owner_contact_number})\n",
    "   ###### Customer Information #####\n",
    "    results.update({\"customer_id\": customer_id})\n",
    "    results.update({\"customer_balance\": str(random.randint(100,999)) + \" USD\"})\n",
    "    results.update({\"customer_name\": fake_owner_name})\n",
    "    results.update({\"customer_address\": fake_address_details['address1']})\n",
    "    results.update({\"customer_city\": fake_address_details['city']})\n",
    "    results.update({\"customer_state\": fake_address_details['state']})\n",
    "    results.update({\"customer_zip_code\": fake_address_details['postalCode']})\n",
    "    results.update({\"customer_locality\": fake_address_details['state']})\n",
    "    results.update({\"customer_contact_number\": fake_owner_contact_number})\n",
    "    temp = final_results['seed_database']\n",
    "    temp.append(results)\n",
    "    with open('database.json', 'w', encoding='utf-8') as f:\n",
    "      json.dump(temp, f, ensure_ascii=False, indent=4)\n",
    "    print(temp)  \n",
    "\n",
    "\n",
    "\n",
    "final_results = {\"seed_database\": [ ] }\n",
    "fake = Faker(['en-US', 'en_US', 'en_US', 'en-US'])\n",
    "for i in range(11,20):\n",
    "  IMAGE_PATH = '/Users/karasing/git/jumpstart-library/pattern2-licence-plates/LPR_Service/dataset/images/'+str(i)+'.png'\n",
    "  #print(IMAGE_PATH)\n",
    "  seed_db_creator(IMAGE_PATH)\n"
   ]
  },
  {
   "cell_type": "code",
   "execution_count": null,
   "metadata": {},
   "outputs": [],
   "source": [
    "\n"
   ]
  },
  {
   "cell_type": "code",
   "execution_count": null,
   "metadata": {},
   "outputs": [],
   "source": [
    "\n",
    "## For DB\n",
    "# vehicle_registered_plate_number\n",
    "# vehicle_color\n",
    "# vehicle_make\n",
    "# vehicle_body_type\n",
    "# vehicle_make_model\n",
    "# vehicle_model_year\n",
    "# vehicle_registered_locality\n",
    "\n",
    "# vehicle_owner_name\n",
    "# vehicle_owner_address\n",
    "# vehicle_owner_contact_number\n",
    "\n",
    "# customer_id\n",
    "# customer_balance\n",
    "# customer_name\n",
    "# customer_address\n",
    "# customer_locality\n",
    "# customer_contact_number\n",
    "\n",
    "## To Kafka\n",
    "# event_id\n",
    "# event_vehicle_detected_plate_number\n",
    "# event_vehicle_captured_image\n",
    "# event_vehicle_detected_geo_location\n",
    "# event_timestamp"
   ]
  }
 ]
}