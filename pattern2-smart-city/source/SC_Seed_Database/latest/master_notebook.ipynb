{
 "metadata": {
  "language_info": {
   "codemirror_mode": {
    "name": "ipython",
    "version": 3
   },
   "file_extension": ".py",
   "mimetype": "text/x-python",
   "name": "python",
   "nbconvert_exporter": "python",
   "pygments_lexer": "ipython3",
   "version": "3.9.5"
  },
  "orig_nbformat": 2,
  "kernelspec": {
   "name": "python395jvsc74a57bd0aee8b7b246df8f9039afb4144a1f6fd8d2ca17a180786b69acc140d282b71a49",
   "display_name": "Python 3.9.2 64-bit"
  },
  "metadata": {
   "interpreter": {
    "hash": "aee8b7b246df8f9039afb4144a1f6fd8d2ca17a180786b69acc140d282b71a49"
   }
  }
 },
 "nbformat": 4,
 "nbformat_minor": 2,
 "cells": [
  {
   "source": [
    "#### This notebook reads ``uk_addresses.csv`` and calls ``api.openalpr.com`` to get car metdata like model, colour, type etc. The output file it creates is a JSON file that then gets ingested into Postgresql Database"
   ],
   "cell_type": "markdown",
   "metadata": {}
  },
  {
   "cell_type": "code",
   "execution_count": 4,
   "metadata": {
    "tags": []
   },
   "outputs": [
    {
     "output_type": "stream",
     "name": "stdout",
     "text": [
      "[{'vehicle_registered_plate_number': 'KZ3861', 'vehicle_color': 'red', 'vehicle_make': 'ford', 'vehicle_body_type': 'sedan-compact', 'vehicle_make_model': 'ford_fiesta', 'vehicle_model_year': '1995-1999', 'vehicle_registered_city': 'London', 'vehicle_owner_name': 'Terence Hilton-Wheeler', 'vehicle_owner_address': '5 Foster Road', 'vehicle_owner_city': 'London', 'vehicle_owner_zip_code': 'W3 7AL', 'vehicle_owner_contact_number': '+44201250 1188', 'customer_id': 'ed1b6511-b7e3-4500-b49c-047cc11afa7f', 'customer_balance': 0, 'customer_name': 'Terence Hilton-Wheeler', 'customer_address': '5 Foster Road', 'customer_city': 'London', 'customer_zip_code': 'W3 7AL', 'customer_contact_number': '+44201250 1188', 'metadata_image_name': '30.png'}]\n",
      "[{'vehicle_registered_plate_number': 'KZ3861', 'vehicle_color': 'red', 'vehicle_make': 'ford', 'vehicle_body_type': 'sedan-compact', 'vehicle_make_model': 'ford_fiesta', 'vehicle_model_year': '1995-1999', 'vehicle_registered_city': 'London', 'vehicle_owner_name': 'Terence Hilton-Wheeler', 'vehicle_owner_address': '5 Foster Road', 'vehicle_owner_city': 'London', 'vehicle_owner_zip_code': 'W3 7AL', 'vehicle_owner_contact_number': '+44201250 1188', 'customer_id': 'ed1b6511-b7e3-4500-b49c-047cc11afa7f', 'customer_balance': 0, 'customer_name': 'Terence Hilton-Wheeler', 'customer_address': '5 Foster Road', 'customer_city': 'London', 'customer_zip_code': 'W3 7AL', 'customer_contact_number': '+44201250 1188', 'metadata_image_name': '30.png'}, {'vehicle_registered_plate_number': 'ZG4459L', 'vehicle_color': 'red', 'vehicle_make': 'volkswagen', 'vehicle_body_type': 'sedan-compact', 'vehicle_make_model': 'volkswagen_beetle', 'vehicle_model_year': '2000-2004', 'vehicle_registered_city': 'Epsom', 'vehicle_owner_name': 'Miss Susan Hayes', 'vehicle_owner_address': '27 Rutland Close', 'vehicle_owner_city': 'Epsom', 'vehicle_owner_zip_code': 'KT19 9JR', 'vehicle_owner_contact_number': '+441372605475', 'customer_id': 'b46bbbf2-b218-4f77-866d-2b6dae230bfb', 'customer_balance': 0, 'customer_name': 'Miss Susan Hayes', 'customer_address': '27 Rutland Close', 'customer_city': 'Epsom', 'customer_zip_code': 'KT19 9JR', 'customer_contact_number': '+441372605475', 'metadata_image_name': '31.png'}]\n",
      "[{'vehicle_registered_plate_number': 'KZ3861', 'vehicle_color': 'red', 'vehicle_make': 'ford', 'vehicle_body_type': 'sedan-compact', 'vehicle_make_model': 'ford_fiesta', 'vehicle_model_year': '1995-1999', 'vehicle_registered_city': 'London', 'vehicle_owner_name': 'Terence Hilton-Wheeler', 'vehicle_owner_address': '5 Foster Road', 'vehicle_owner_city': 'London', 'vehicle_owner_zip_code': 'W3 7AL', 'vehicle_owner_contact_number': '+44201250 1188', 'customer_id': 'ed1b6511-b7e3-4500-b49c-047cc11afa7f', 'customer_balance': 0, 'customer_name': 'Terence Hilton-Wheeler', 'customer_address': '5 Foster Road', 'customer_city': 'London', 'customer_zip_code': 'W3 7AL', 'customer_contact_number': '+44201250 1188', 'metadata_image_name': '30.png'}, {'vehicle_registered_plate_number': 'ZG4459L', 'vehicle_color': 'red', 'vehicle_make': 'volkswagen', 'vehicle_body_type': 'sedan-compact', 'vehicle_make_model': 'volkswagen_beetle', 'vehicle_model_year': '2000-2004', 'vehicle_registered_city': 'Epsom', 'vehicle_owner_name': 'Miss Susan Hayes', 'vehicle_owner_address': '27 Rutland Close', 'vehicle_owner_city': 'Epsom', 'vehicle_owner_zip_code': 'KT19 9JR', 'vehicle_owner_contact_number': '+441372605475', 'customer_id': 'b46bbbf2-b218-4f77-866d-2b6dae230bfb', 'customer_balance': 0, 'customer_name': 'Miss Susan Hayes', 'customer_address': '27 Rutland Close', 'customer_city': 'Epsom', 'customer_zip_code': 'KT19 9JR', 'customer_contact_number': '+441372605475', 'metadata_image_name': '31.png'}, {'vehicle_registered_plate_number': '2216YE06', 'vehicle_color': 'green', 'vehicle_make': 'ford', 'vehicle_body_type': 'sedan-compact', 'vehicle_make_model': 'ford_fiesta', 'vehicle_model_year': '1995-1999', 'vehicle_registered_city': 'London', 'vehicle_owner_name': 'Dr. Garry Willis', 'vehicle_owner_address': '12 Lancashire Court', 'vehicle_owner_city': 'London', 'vehicle_owner_zip_code': 'W1S 1EY', 'vehicle_owner_contact_number': '+44208006 4415', 'customer_id': '989e71a1-c5b8-4aa6-ac28-15ca3eccc9f3', 'customer_balance': 0, 'customer_name': 'Dr. Garry Willis', 'customer_address': '12 Lancashire Court', 'customer_city': 'London', 'customer_zip_code': 'W1S 1EY', 'customer_contact_number': '+44208006 4415', 'metadata_image_name': '32.png'}]\n",
      "[{'vehicle_registered_plate_number': 'KZ3861', 'vehicle_color': 'red', 'vehicle_make': 'ford', 'vehicle_body_type': 'sedan-compact', 'vehicle_make_model': 'ford_fiesta', 'vehicle_model_year': '1995-1999', 'vehicle_registered_city': 'London', 'vehicle_owner_name': 'Terence Hilton-Wheeler', 'vehicle_owner_address': '5 Foster Road', 'vehicle_owner_city': 'London', 'vehicle_owner_zip_code': 'W3 7AL', 'vehicle_owner_contact_number': '+44201250 1188', 'customer_id': 'ed1b6511-b7e3-4500-b49c-047cc11afa7f', 'customer_balance': 0, 'customer_name': 'Terence Hilton-Wheeler', 'customer_address': '5 Foster Road', 'customer_city': 'London', 'customer_zip_code': 'W3 7AL', 'customer_contact_number': '+44201250 1188', 'metadata_image_name': '30.png'}, {'vehicle_registered_plate_number': 'ZG4459L', 'vehicle_color': 'red', 'vehicle_make': 'volkswagen', 'vehicle_body_type': 'sedan-compact', 'vehicle_make_model': 'volkswagen_beetle', 'vehicle_model_year': '2000-2004', 'vehicle_registered_city': 'Epsom', 'vehicle_owner_name': 'Miss Susan Hayes', 'vehicle_owner_address': '27 Rutland Close', 'vehicle_owner_city': 'Epsom', 'vehicle_owner_zip_code': 'KT19 9JR', 'vehicle_owner_contact_number': '+441372605475', 'customer_id': 'b46bbbf2-b218-4f77-866d-2b6dae230bfb', 'customer_balance': 0, 'customer_name': 'Miss Susan Hayes', 'customer_address': '27 Rutland Close', 'customer_city': 'Epsom', 'customer_zip_code': 'KT19 9JR', 'customer_contact_number': '+441372605475', 'metadata_image_name': '31.png'}, {'vehicle_registered_plate_number': '2216YE06', 'vehicle_color': 'green', 'vehicle_make': 'ford', 'vehicle_body_type': 'sedan-compact', 'vehicle_make_model': 'ford_fiesta', 'vehicle_model_year': '1995-1999', 'vehicle_registered_city': 'London', 'vehicle_owner_name': 'Dr. Garry Willis', 'vehicle_owner_address': '12 Lancashire Court', 'vehicle_owner_city': 'London', 'vehicle_owner_zip_code': 'W1S 1EY', 'vehicle_owner_contact_number': '+44208006 4415', 'customer_id': '989e71a1-c5b8-4aa6-ac28-15ca3eccc9f3', 'customer_balance': 0, 'customer_name': 'Dr. Garry Willis', 'customer_address': '12 Lancashire Court', 'customer_city': 'London', 'customer_zip_code': 'W1S 1EY', 'customer_contact_number': '+44208006 4415', 'metadata_image_name': '32.png'}, {'vehicle_registered_plate_number': 'CZ20FSE', 'vehicle_color': 'white', 'vehicle_make': 'skoda', 'vehicle_body_type': 'sedan-standard', 'vehicle_make_model': 'skoda_superb', 'vehicle_model_year': '2015-2019', 'vehicle_registered_city': 'Weybridge', 'vehicle_owner_name': 'Clive Gibbs-Jenkins', 'vehicle_owner_address': '3 Park Lawn Road', 'vehicle_owner_city': 'Weybridge', 'vehicle_owner_zip_code': 'KT13 9EU', 'vehicle_owner_contact_number': '+441932753428', 'customer_id': 'f22cebd0-f774-4ff9-8511-0ed09e3dd2ca', 'customer_balance': 0, 'customer_name': 'Clive Gibbs-Jenkins', 'customer_address': '3 Park Lawn Road', 'customer_city': 'Weybridge', 'customer_zip_code': 'KT13 9EU', 'customer_contact_number': '+441932753428', 'metadata_image_name': '34.png'}]\n"
     ]
    }
   ],
   "source": [
    "#!/usr/bin/python\n",
    "\n",
    "import requests\n",
    "import base64\n",
    "import json\n",
    "import uuid\n",
    "#pip3 install Faker\n",
    "from faker import Faker\n",
    "import random\n",
    "import pandas\n",
    "from geopy.geocoders import Nominatim\n",
    "\n",
    "def seed_db_creator(IMAGE_NAME):\n",
    "  SECRET_KEY = 'sk_90c281aebbfc04d52d6c2e86'\n",
    "  IS_TOLL_FEE_POSTPAID  = True\n",
    "  IMAGE_PATH =  '/Users/karasing/git/jumpstart-library/pattern2-smart-city/source/dataset/images/' + IMAGE_NAME\n",
    "  results= {}\n",
    "  with open(IMAGE_PATH, 'rb') as image_file:\n",
    "      img_base64 = base64.b64encode(image_file.read())\n",
    "  url = 'https://api.openalpr.com/v3/recognize_bytes?recognize_vehicle=1&country=us&secret_key=%s' % (SECRET_KEY)\n",
    "\n",
    "  ## Uncomment if you want to get input data from json instead of openalpr.com API\n",
    "  #dump_file = open(\"database_api_response.json\")\n",
    "  #data = json.load(dump_file)\n",
    "\n",
    "  ## Uncomment if you want to get input data from OpenALPR API\n",
    "  r = requests.post(url, data = img_base64)\n",
    "  data = json.loads( json.dumps(r.json(), indent=2))\n",
    "\n",
    " ## Read UK Addresses CSV File\n",
    "  df = pandas.read_csv(\"uk_addresses.csv\")\n",
    "  #address_file = open(\"addresses.json\")\n",
    "  #address_data = json.load(address_file)\n",
    "  \n",
    "  for i in data[\"results\"]:\n",
    "    customer_id = str(uuid.uuid4())\n",
    "    fake_owner_name = fake.name()\n",
    "    random_int = random.randint(0,49)\n",
    "\n",
    "    #print(fake_address_details)\n",
    "    #fake_lat_long = fake.local_latlng()\n",
    "\n",
    "    ##### Vehicle Information #####\n",
    "    results.update({\"vehicle_registered_plate_number\": i['plate']})\n",
    "    results.update({\"vehicle_color\": i[\"vehicle\"][\"color\"][0][\"name\"]})\n",
    "    results.update({\"vehicle_make\": i[\"vehicle\"][\"make\"][0][\"name\"]})\n",
    "    results.update({\"vehicle_body_type\": i[\"vehicle\"][\"body_type\"][0][\"name\"]})\n",
    "    results.update({\"vehicle_make_model\": i[\"vehicle\"][\"make_model\"][0][\"name\"]})\n",
    "    results.update({\"vehicle_model_year\": i[\"vehicle\"][\"year\"][0][\"name\"]})\n",
    "    results.update({\"vehicle_registered_city\": df.loc[random_int].at[\"City\"]})\n",
    "   ###### Owner Information #####\n",
    "    results.update({\"vehicle_owner_name\": fake_owner_name})\n",
    "    results.update({\"vehicle_owner_address\": df.loc[random_int].at[\"Address\"]})\n",
    "    results.update({\"vehicle_owner_city\": df.loc[random_int].at[\"City\"]})\n",
    "    results.update({\"vehicle_owner_zip_code\": df.loc[random_int].at[\"Postcode\"]})\n",
    "    results.update({\"vehicle_owner_contact_number\": df.loc[random_int].at[\"Phone number\"]})\n",
    "   ###### Customer Information #####\n",
    "    results.update({\"customer_id\": customer_id})\n",
    "    results.update({\"customer_balance\": 0 if IS_TOLL_FEE_POSTPAID else random.randint(100,999) })\n",
    "    results.update({\"customer_name\": fake_owner_name})\n",
    "    results.update({\"customer_address\": df.loc[random_int].at[\"Address\"]})\n",
    "    results.update({\"customer_city\": df.loc[random_int].at[\"City\"]})\n",
    "    results.update({\"customer_zip_code\": df.loc[random_int].at[\"Postcode\"]})\n",
    "    results.update({\"customer_contact_number\": df.loc[random_int].at[\"Phone number\"]})\n",
    "    results.update({\"metadata_image_name\": str(IMAGE_NAME)})\n",
    "    temp = final_results['seed_database']\n",
    "    temp.append(results)\n",
    "    with open('vehicle_metadata_db.json', 'w', encoding='utf-8') as f:\n",
    "      json.dump(temp, f, ensure_ascii=False, indent=4)\n",
    "    print(temp)  \n",
    "\n",
    "final_results = {\"seed_database\": [ ] }\n",
    "fake = Faker( 'en_GB')\n",
    "#print(fake.locales)\n",
    "\n",
    "for i in range(30,35):\n",
    "  IMAGE_NAME = str(i)+'.png'\n",
    "  #print(IMAGE_PATH)\n",
    "  seed_db_creator(IMAGE_NAME)\n"
   ]
  },
  {
   "source": [
    "### Reading resultant json file and ingesting the data to Postgresql Database"
   ],
   "cell_type": "markdown",
   "metadata": {}
  },
  {
   "cell_type": "code",
   "execution_count": 3,
   "metadata": {},
   "outputs": [
    {
     "output_type": "stream",
     "name": "stdout",
     "text": [
      "Requirement already satisfied: sqlalchemy in /usr/local/lib/python3.9/site-packages (1.4.9)\n",
      "Collecting psycopg2\n",
      "  Using cached psycopg2-2.8.6.tar.gz (383 kB)\n",
      "Requirement already satisfied: greenlet!=0.4.17 in /usr/local/lib/python3.9/site-packages (from sqlalchemy) (1.0.0)\n",
      "Building wheels for collected packages: psycopg2\n",
      "  Building wheel for psycopg2 (setup.py) ... \u001b[?25ldone\n",
      "\u001b[?25h  Created wheel for psycopg2: filename=psycopg2-2.8.6-cp39-cp39-macosx_11_0_x86_64.whl size=136081 sha256=8ede2815a52f1248955b26d91b6d9cc27edee7b58375c78b9b822a79af958c56\n",
      "  Stored in directory: /Users/karasing/Library/Caches/pip/wheels/a2/07/10/a9a82e72d50feb8d646acde6a88000bbf2ca0f82e41aea438a\n",
      "Successfully built psycopg2\n",
      "Installing collected packages: psycopg2\n",
      "Successfully installed psycopg2-2.8.6\n"
     ]
    }
   ],
   "source": [
    "! pip3 install sqlalchemy psycopg2"
   ]
  },
  {
   "cell_type": "code",
   "execution_count": 24,
   "metadata": {},
   "outputs": [
    {
     "output_type": "stream",
     "name": "stdout",
     "text": [
      "All Record added to DB successfully\n",
      "All Record added to DB successfully\n",
      "All Record added to DB successfully\n",
      "All Record added to DB successfully\n",
      "All Record added to DB successfully\n",
      "All Record added to DB successfully\n",
      "All Record added to DB successfully\n",
      "All Record added to DB successfully\n",
      "All Record added to DB successfully\n",
      "All Record added to DB successfully\n",
      "All Record added to DB successfully\n",
      "All Record added to DB successfully\n",
      "All Record added to DB successfully\n",
      "All Record added to DB successfully\n",
      "All Record added to DB successfully\n",
      "All Record added to DB successfully\n",
      "All Record added to DB successfully\n"
     ]
    }
   ],
   "source": [
    "from sqlalchemy import create_engine, Column, Integer, String, Sequence\n",
    "from sqlalchemy.ext.declarative import declarative_base\n",
    "import json, urllib.request\n",
    "\n",
    "## JSON Data URL\n",
    "JSON_DB_URL = \"https://raw.githubusercontent.com/red-hat-data-services/jumpstart-library/ksingh-tf-v1/pattern2-licence-plates/LPR_seed_database/uk_database.json\"\n",
    "\n",
    "## Database details and connection\n",
    "DB_USER = os.getenv('DB_USER', 'dbadmin')\n",
    "DB_PASSWORD = os.getenv('DB_PASSWORD', 'HT@1202k')\n",
    "DB_HOST = os.getenv('DB_HOST', '127.0.0.1')\n",
    "DB_NAME = os.getenv('DB_NAME','pgdb')\n",
    "TABLE_NAME = os.getenv('TABLE_NAME','vehicle_metadata')\n",
    "\n",
    "engine = create_engine('postgresql://'+DB_USER+':'+DB_PASSWORD+'@'+DB_HOST+'/'+DB_NAME, connect_args={})\n",
    "Base = declarative_base()\n",
    "TABLE_ID = Sequence(TABLE_NAME+'_id_seq', start=1000)\n",
    "\n",
    "class Create_Table(Base):\n",
    "    __tablename__ = TABLE_NAME\n",
    "    id = Column(Integer, TABLE_ID,  primary_key=True, index=True, server_default=TABLE_ID.next_value())\n",
    "    vehicle_registered_plate_number = Column(String, primary_key=True, index=True, unique=True)\n",
    "    vehicle_color = Column(String)\n",
    "    vehicle_make = Column(String)\n",
    "    vehicle_body_type = Column(String)\n",
    "    vehicle_make_model = Column(String)\n",
    "    vehicle_model_year = Column(String)\n",
    "    vehicle_registered_city = Column(String)\n",
    "    vehicle_owner_name = Column(String)\n",
    "    vehicle_owner_address = Column(String)\n",
    "    vehicle_owner_city = Column(String)\n",
    "    vehicle_owner_zip_code = Column(String)\n",
    "    vehicle_owner_contact_number = Column(String)\n",
    "    customer_id = Column(String)\n",
    "    customer_balance = Column(String)\n",
    "    customer_name = Column(String)\n",
    "    customer_address = Column(String)\n",
    "    customer_city = Column(String)\n",
    "    customer_zip_code = Column(String)\n",
    "    customer_contact_number = Column(String)\n",
    "\n",
    "## Create Table if does not exists\n",
    "Create_Table.__table__.create(bind=engine, checkfirst=True)\n",
    "\n",
    "with urllib.request.urlopen(JSON_DB_URL) as url:\n",
    "    data = json.loads(url.read().decode())\n",
    "\n",
    "connection = engine.connect()\n",
    "\n",
    "for count in range(len(data)):\n",
    "    try:\n",
    "        connection.execute(f\"\"\"INSERT INTO public.{TABLE_NAME}(vehicle_registered_plate_number,vehicle_color,vehicle_make,vehicle_body_type,vehicle_make_model,vehicle_model_year,vehicle_registered_city,vehicle_owner_name,vehicle_owner_address,vehicle_owner_city,vehicle_owner_zip_code,vehicle_owner_contact_number,customer_id,customer_balance,customer_name,customer_address,customer_city,customer_zip_code,customer_contact_number) \n",
    "VALUES('{data[count]['vehicle_registered_plate_number']}', '{data[count]['vehicle_color']}', '{data[count]['vehicle_make']}', '{data[count]['vehicle_body_type']}', '{data[count]['vehicle_make_model']}', '{data[count]['vehicle_model_year']}', '{data[count]['vehicle_registered_city']}', '{data[count]['vehicle_owner_name']}', '{data[count]['vehicle_owner_address']}', '{data[count]['vehicle_owner_city']}', '{data[count]['vehicle_owner_zip_code']}', '{data[count]['vehicle_owner_contact_number']}', '{data[count]['customer_id']}', '{data[count]['customer_balance']}', '{data[count]['customer_name']}', '{data[count]['customer_address']}', '{data[count]['customer_city']}', '{data[count]['customer_zip_code']}', '{data[count]['customer_contact_number']}')\"\"\")\n",
    "    except:\n",
    "        print(\"====================== Error inserting record to database ======================\")\n",
    "        print(sys.exc_info()[1])\n",
    "    else:\n",
    "        print(\" Record added to DB successfully\")\n"
   ]
  }
 ]
}